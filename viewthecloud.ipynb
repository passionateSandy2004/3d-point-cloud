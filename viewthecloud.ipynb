{
 "cells": [
  {
   "cell_type": "code",
   "execution_count": 3,
   "metadata": {},
   "outputs": [],
   "source": [
    "import open3d as o3d\n",
    "import numpy as np "
   ]
  },
  {
   "cell_type": "code",
   "execution_count": 4,
   "metadata": {},
   "outputs": [
    {
     "name": "stdout",
     "output_type": "stream",
     "text": [
      "load a ply point cloud, print it, and render it\n",
      "PointCloud with 251266 points.\n",
      "[[ -9901.352539 -13590.091797  67950.460938]\n",
      " [ -9086.081055 -12720.512695  63602.5625  ]\n",
      " [ -8741.75293  -12488.21875   62441.089844]\n",
      " ...\n",
      " [ 51999.246094 116629.226562  57412.417969]\n",
      " [ 52176.160156 116658.023438  57426.59375 ]\n",
      " [ 52532.671875 117086.929688  57637.726562]]\n"
     ]
    }
   ],
   "source": [
    "print(\"load a ply point cloud, print it, and render it\")\n",
    "pcd=o3d.io.read_point_cloud(\"cloud/{Enter the file name}.ply\")\n",
    "print(pcd)\n",
    "print(np.asarray(pcd.points))\n",
    "o3d.visualization.draw_geometries([pcd])"
   ]
  }
 ],
 "metadata": {
  "kernelspec": {
   "display_name": "Python 3",
   "language": "python",
   "name": "python3"
  },
  "language_info": {
   "codemirror_mode": {
    "name": "ipython",
    "version": 3
   },
   "file_extension": ".py",
   "mimetype": "text/x-python",
   "name": "python",
   "nbconvert_exporter": "python",
   "pygments_lexer": "ipython3",
   "version": "3.11.5"
  }
 },
 "nbformat": 4,
 "nbformat_minor": 2
}
